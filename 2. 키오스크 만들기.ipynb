{
 "cells": [
  {
   "cell_type": "code",
   "execution_count": 1,
   "id": "8e2c915b",
   "metadata": {},
   "outputs": [
    {
     "name": "stdout",
     "output_type": "stream",
     "text": [
      "⟝------------------------------⟞\n",
      "|                               |\n",
      "|                               |\n",
      "|                               |\n",
      "|                               |\n",
      "상품명 : HOT 아메리카노\n",
      "총 주문 금액 : 1500원\n",
      "|                               |\n",
      "|                               |\n",
      "|                               |\n",
      "|                               |\n",
      "⟝------------------------------⟞\n"
     ]
    }
   ],
   "source": [
    "# 주문 번호 코드로 출력   \n",
    "print('⟝' + '-' * 30 + '⟞')\n",
    "print('|' + ' ' * 31 + '|')\n",
    "print('|' + ' ' * 31 + '|')\n",
    "print('|' + ' ' * 31 + '|')\n",
    "print('|' + ' ' * 31 + '|')\n",
    "print('상품명 : HOT 아메리카노') \n",
    "print('총 주문 금액 : 1500원')\n",
    "print('|' + ' ' * 31 + '|')\n",
    "print('|' + ' ' * 31 + '|')\n",
    "print('|' + ' ' * 31 + '|')\n",
    "print('|' + ' ' * 31 + '|')\n",
    "print('⟝' + '-' * 30 + '⟞')"
   ]
  },
  {
   "cell_type": "code",
   "execution_count": 2,
   "id": "4756bb4c",
   "metadata": {},
   "outputs": [],
   "source": [
    "# 커피 메뉴와 가격\n",
    "coffee = ['americano', 'latte', 'mocha'] \n",
    "c_price = [2000, 3000, 3000]\n",
    "\n",
    "# 논커피 메뉴와 가격\n",
    "non_coffee = ['yuza_tea', 'green_tea', 'choco_latte']\n",
    "n_price = [2500, 2500, 3000]"
   ]
  },
  {
   "cell_type": "code",
   "execution_count": 3,
   "id": "834b80b9",
   "metadata": {},
   "outputs": [],
   "source": [
    "# 전체 메뉴와 가격 \n",
    "menu = ['americano', 'latte', 'mocha', 'yuza_tea', 'green_tea', 'choco_latte']\n",
    "price = [2000, 3000, 3000, 2500, 2500, 3000]"
   ]
  },
  {
   "cell_type": "code",
   "execution_count": 6,
   "id": "23edbe48",
   "metadata": {},
   "outputs": [
    {
     "name": "stdout",
     "output_type": "stream",
     "text": [
      "['yuza_tea', 'green_tea', 'choco_latte'] [2500, 2500, 3000]\n"
     ]
    }
   ],
   "source": [
    "# 논커피 메뉴와 가격을 출력해보세요.\n",
    "print(menu[3:], price[3:])   # [[YOUR CODE]]"
   ]
  },
  {
   "cell_type": "code",
   "execution_count": 7,
   "id": "f162c1b9",
   "metadata": {},
   "outputs": [],
   "source": [
    "# 문제 2-1. Kiosk 클래스를 생성합니다. \n",
    "\n",
    "class Kiosk:\n",
    "    def __init__(self):\n",
    "        self.menu = menu # [[YOUR CODE]]\n",
    "        self.price = price # [[YOUR CODE]]"
   ]
  },
  {
   "cell_type": "code",
   "execution_count": 8,
   "id": "3560a7f9",
   "metadata": {},
   "outputs": [
    {
     "data": {
      "text/plain": [
       "['americano', 'latte', 'mocha', 'yuza_tea', 'green_tea', 'choco_latte']"
      ]
     },
     "execution_count": 8,
     "metadata": {},
     "output_type": "execute_result"
    }
   ],
   "source": [
    "a = Kiosk()  # 객체를 생성합니다.\n",
    "a.menu  # 객체 속성을 출력합니다."
   ]
  },
  {
   "cell_type": "code",
   "execution_count": 9,
   "id": "cdf5135d",
   "metadata": {},
   "outputs": [
    {
     "data": {
      "text/plain": [
       "[2000, 3000, 3000, 2500, 2500, 3000]"
      ]
     },
     "execution_count": 9,
     "metadata": {},
     "output_type": "execute_result"
    }
   ],
   "source": [
    "# 가격을 출력해보세요.\n",
    "a.price # [[YOUR CODE]]"
   ]
  },
  {
   "cell_type": "code",
   "execution_count": 11,
   "id": "e09cdd7b",
   "metadata": {},
   "outputs": [],
   "source": [
    "class Kiosk: \n",
    "    # 문제 2-1의 답을 입력하세요.     \n",
    "    def __init__(self):\n",
    "        self.menu = menu # [[YOUR CODE]]\n",
    "        self.price = price # [[YOUR CODE]]\n",
    "\n",
    "# 메뉴 출력 메서드\n",
    "    def menu_print(self):\n",
    "        for i in range(len(self.menu)):\n",
    "            print(i+1, self.menu[i], ' : ', self.price[i], '원')"
   ]
  },
  {
   "cell_type": "code",
   "execution_count": 12,
   "id": "d281066b",
   "metadata": {},
   "outputs": [
    {
     "name": "stdout",
     "output_type": "stream",
     "text": [
      "1 americano  :  2000 원\n",
      "2 latte  :  3000 원\n",
      "3 mocha  :  3000 원\n",
      "4 yuza_tea  :  2500 원\n",
      "5 green_tea  :  2500 원\n",
      "6 choco_latte  :  3000 원\n"
     ]
    }
   ],
   "source": [
    "a = Kiosk()  # 객체 생성 \n",
    "a.menu_print()  # 메뉴 출력"
   ]
  },
  {
   "cell_type": "code",
   "execution_count": 27,
   "id": "c3a3b1c1",
   "metadata": {},
   "outputs": [],
   "source": [
    "# 문제 2-2. 주문 메서드  \n",
    "# 음료의 이름과 가격을 출력하세요.  \n",
    "\n",
    "def menu_select(self):\n",
    "    n = int(input(\"음료의 번호를 입력하세요 : \"))  # 음료 번호 입력\n",
    "    self.price_sum = self.price[n-1]  # 선택 음료의 가격\n",
    "    # 문제 2-2. 음료의 이름과 가격을 출력하세요.\n",
    "    print(self.menu[n-1], ' : ', self.price[n-1], '원')  # 메뉴"
   ]
  },
  {
   "cell_type": "code",
   "execution_count": 28,
   "id": "a851c2ff",
   "metadata": {},
   "outputs": [],
   "source": [
    "# 주문 메서드   \n",
    "def menu_select(self):\n",
    "    n = 0\n",
    "    while n < 1 or len(menu) < n:\n",
    "        n = int(input(\"음료 번호를 입력하세요 : \"))  # 음료 번호 입력\n",
    "    \n",
    "        # 메뉴판에 있는 음료 번호일 때\n",
    "        if 1 <= n & n <= len(menu):\n",
    "            self.price_sum = self.price[n-1]  # 선택 음료의 가격\n",
    "            # 문제 2-2의 답을 입력하세요. \n",
    "            print(self.menu[n-1], ' : ', self.price[n-1], '원')  # 메뉴\n",
    "    \n",
    "        # 메뉴판에 없는 번호일 때\n",
    "        else:\n",
    "            print(\"없는 메뉴입니다. 다시 주문해 주세요.\")"
   ]
  },
  {
   "cell_type": "code",
   "execution_count": 34,
   "id": "d92674e0",
   "metadata": {},
   "outputs": [],
   "source": [
    "class Kiosk:    \n",
    "    def __init__(self):\n",
    "        # 문제 2-1의 답을 입력하세요. \n",
    "        self.menu = menu\n",
    "        self.price = price\n",
    "\n",
    "    # 메뉴 출력 메서드\n",
    "    def menu_print(self):\n",
    "        for i in range(len(self.menu)):\n",
    "            print(i+1, self.menu[i], ' : ', self.price[i], '원')\n",
    "\n",
    "    # 주문 메서드\n",
    "    def menu_select(self):\n",
    "        print()  # 줄 바꿈\n",
    "        n = 0\n",
    "        while n < 1 or len(menu) < n:\n",
    "            n = int(input(\"음료 번호를 입력하세요 : \"))  # 음료 번호 입력\n",
    "\n",
    "            # 메뉴판에 있는 음료 번호일때\n",
    "            if 1 <= n & n <= len(menu):\n",
    "                self.price_sum = self.price[n-1]  # 선택 음료의 가격\n",
    "                # 문제 2-2의 답을 입력하세요. \n",
    "                print(self.menu[n-1], ' : ', self.price[n-1], '원')  # 메뉴\n",
    "        \n",
    "             # 메뉴판에 없는 번호일 때\n",
    "            else:  \n",
    "                print(\"없는 메뉴입니다. 다시 주문해 주세요.\")"
   ]
  },
  {
   "cell_type": "code",
   "execution_count": 35,
   "id": "d3406d54",
   "metadata": {},
   "outputs": [
    {
     "name": "stdout",
     "output_type": "stream",
     "text": [
      "1 americano  :  2000 원\n",
      "2 latte  :  3000 원\n",
      "3 mocha  :  3000 원\n",
      "4 yuza_tea  :  2500 원\n",
      "5 green_tea  :  2500 원\n",
      "6 choco_latte  :  3000 원\n",
      "\n",
      "음료 번호를 입력하세요 : 1\n",
      "americano  :  2000 원\n"
     ]
    }
   ],
   "source": [
    "# 아메리카노 주문해보기  \n",
    "a = Kiosk()  # 객체 생성 \n",
    "a.menu_print()  # 메뉴 출력\n",
    "a.menu_select()  # 아메리카노 주문"
   ]
  },
  {
   "cell_type": "code",
   "execution_count": 36,
   "id": "c345548b",
   "metadata": {},
   "outputs": [],
   "source": [
    "# 문제 2-3. 주문 메서드      \n",
    "\n",
    "# 음료의 온도에 따라 temp 변수를 \"HOT\" 또는 \"ICE\"로 지정하세요.\n",
    "\n",
    "class Kiosk: \n",
    "    def __init__(self):\n",
    "        # 문제 2-1의 답을 입력하세요. \n",
    "        self.menu = menu\n",
    "        self.price = price\n",
    "\n",
    "    # 메뉴 출력 메서드\n",
    "    def menu_print(self):\n",
    "        for i in range(len(self.menu)):\n",
    "            print(i + 1, self.menu[i], ' : ', self.price[i], '원')\n",
    "\n",
    "    # 주문 메서드\n",
    "    def menu_select(self):\n",
    "        print()  # 줄 바꿈\n",
    "        n = 0\n",
    "        while n < 1 or len(menu) < n:\n",
    "            n = int(input(\"음료 번호를 입력하세요 : \"))  # 음료 번호 입력\n",
    "\n",
    "            # 메뉴판에 있는 음료 번호일때\n",
    "            if 1 <= n & n <= len(menu):\n",
    "                self.price_sum = self.price[n-1]  # 선택 음료의 가격\n",
    "        \n",
    "            # 메뉴판에 없는 번호일 때\n",
    "            else:  \n",
    "                print(\"없는 메뉴입니다. 다시 주문해 주세요.\")\n",
    "\n",
    "        # 음료 온도 물어보기\n",
    "        t = 0  # 기본값을 넣어주고\n",
    "        while t != 1 and t != 2:  # 1이나 2를 입력할 때까지 물어보기\n",
    "            t= int(input(\"HOT 음료는 1을, ICE 음료는 2를 입력하세요 : \"))\n",
    "            # 문제 2-3. 음료의 온도에 따라 temp 변수를 \"HOT\" 또는 \"ICE\"로 지정하세요.   \n",
    "            # 힌트: if문을 활용해보세요.##???##     \n",
    "            if t == 1:\n",
    "                self.temp = \"HOT\"\n",
    "            elif t == 2:\n",
    "                self.temp = \"ICE\"\n",
    "            else:    \n",
    "                print(\"1과 2 중 하나를 입력하세요.\\n\")\n",
    "        # 문제 2-2의 답을 입력하세요. \n",
    "        print('주문 음료', self.temp, self.menu[n-1], ' : ', self.price[n-1], '원')  # 온도 속성을 추가한 주문 결과 출력"
   ]
  },
  {
   "cell_type": "code",
   "execution_count": 38,
   "id": "22b13d35",
   "metadata": {},
   "outputs": [
    {
     "name": "stdout",
     "output_type": "stream",
     "text": [
      "1 americano  :  2000 원\n",
      "2 latte  :  3000 원\n",
      "3 mocha  :  3000 원\n",
      "4 yuza_tea  :  2500 원\n",
      "5 green_tea  :  2500 원\n",
      "6 choco_latte  :  3000 원\n",
      "\n",
      "음료 번호를 입력하세요 : 6\n",
      "HOT 음료는 1을, ICE 음료는 2를 입력하세요 : 2\n",
      "주문 음료 ICE choco_latte  :  3000 원\n"
     ]
    }
   ],
   "source": [
    "# 아이스 초코라떼 주문해보기  \n",
    "a = Kiosk()  # 객체 생성\n",
    "a.menu_print()  # 메뉴 출력\n",
    "a.menu_select()"
   ]
  },
  {
   "cell_type": "code",
   "execution_count": 84,
   "id": "a04652b3",
   "metadata": {},
   "outputs": [],
   "source": [
    "# 문제 2-4. 추가 주문       \n",
    "# 추가 음료의 온도를 입력받고, 가격 리스트와 주문 리스트, 합계 금액을 업데이트합니다. \n",
    "\n",
    "def menu_select(self):\n",
    "    self.order_menu = []  # 주문 리스트\n",
    "    self.order_price = []  # 가격 리스트\n",
    "    self.price_sum = 0\n",
    "    n = 0\n",
    "    while n < 1 or len(menu) < n:\n",
    "        n = int(input(\"음료를 번호를 입력하세요 : \"))  # 음료 번호 입력\n",
    "\n",
    "        # 메뉴판에 있는 음료 번호일 때\n",
    "        if 1 <= n & n <= len(menu):\n",
    "            self.order_price.append(self.price[n-1])  # 가격 리스트에 추가합니다.\n",
    "            self.price_sum += self.price[n-1]  # 합계 금액\n",
    "        \n",
    "            # 메뉴판에 없는 번호일 때\n",
    "        else:  \n",
    "            print(\"없는 메뉴입니다. 다시 주문해 주세요.\")\n",
    "\n",
    "\n",
    "    # 음료 온도 물어보기\n",
    "    t = 0  # 기본값을 넣어주고\n",
    "    while t != 1 and t != 2:  # 1이나 2를 입력할 때까지 물어보기\n",
    "        t= int(input(\"HOT 음료는 1을, ICE 음료는 2를 입력하세요 : \"))\n",
    "        # 문제 2-3의 답을 입력하세요. \n",
    "        if t == 1:\n",
    "            self.temp = \"HOT\"\n",
    "        elif t == 2:\n",
    "            self.temp = \"ICE\"\n",
    "        else:    \n",
    "            print(\"1과 2 중 하나를 입력하세요.\\n\")\n",
    "\n",
    "    self.order_menu.append(self.temp + ' ' + self.menu[n-1])  # 주문 리스트에 추가합니다.\n",
    "    # 문제 2-2의 답을 입력하세요. \n",
    "    print(self.temp, self.menu[n-1], ' : ', self.price[n-1], '원')  # 온도 속성을 추가한 주문 결과를 출력합니다.\n",
    "\n",
    "    # 추가 주문 또는 지불\n",
    "    while n != 0:  # 지불을 선택하기 전까지 반복합니다.\n",
    "        print()  # 줄 바꾸면서 \n",
    "        n = int(input(\"추가 주문은 음료 번호를, 지불은 0을 누르세요 : \"))  # 추가 주문 또는 지불\n",
    "        if n > 0 and n < len(self.menu) + 1: \n",
    "            # 추가 음료 온도 \n",
    "            # 문제 2-4. 추가 음료의 온도를 입력받고, 가격 리스트, 주문 리스트, 합계 금액을 업데이트해보세요.\n",
    "            t = 0\n",
    "            while t != 1 and t != 2:  # 1이나 2를 입력할 때까지 물어보기\n",
    "                t= int(input(\"HOT 음료는 1을, ICE 음료는 2를 입력하세요 : \"))\n",
    "                if t == 1:\n",
    "                    self.temp = \"HOT\"\n",
    "                elif t == 2:\n",
    "                    self.temp = \"ICE\"\n",
    "                else:    \n",
    "                    print(\"1과 2 중 하나를 입력하세요.\\n\")\n",
    "            self.order_price.append(self.price[n-1])\n",
    "            self.order_menu.append(self.temp + ' ' + self.menu[n-1])\n",
    "            self.price_sum += self.price[n-1]\n",
    "            print('추가 주문 음료', self.temp, self.menu[n-1], ':', self.price[n-1], '원\\n', '합계 : ', self.price_sum, '원')\n",
    "        else :\n",
    "            if n == 0 :  # 지불을 입력하면\n",
    "                print(\"주문이 완료되었습니다.\")\n",
    "                print(self.order_menu, self.order_price)  # 확인을 위한 리스트를 출력합니다.\n",
    "            else :  # 없는 번호를 입력할 때\n",
    "                print(\"없는 메뉴입니다. 다시 주문해 주세요.\")"
   ]
  },
  {
   "cell_type": "code",
   "execution_count": 85,
   "id": "2be5c266",
   "metadata": {},
   "outputs": [],
   "source": [
    "Kiosk.menu_select = menu_select"
   ]
  },
  {
   "cell_type": "code",
   "execution_count": 87,
   "id": "137c763d",
   "metadata": {},
   "outputs": [
    {
     "name": "stdout",
     "output_type": "stream",
     "text": [
      "1 americano  :  2000 원\n",
      "2 latte  :  3000 원\n",
      "3 mocha  :  3000 원\n",
      "4 yuza_tea  :  2500 원\n",
      "5 green_tea  :  2500 원\n",
      "6 choco_latte  :  3000 원\n",
      "음료를 번호를 입력하세요 : 1\n",
      "HOT 음료는 1을, ICE 음료는 2를 입력하세요 : 1\n",
      "HOT americano  :  2000 원\n",
      "\n",
      "추가 주문은 음료 번호를, 지불은 0을 누르세요 : 2\n",
      "HOT 음료는 1을, ICE 음료는 2를 입력하세요 : 2\n",
      "추가 주문 음료 ICE latte : 3000 원\n",
      " 합계 :  5000 원\n",
      "\n",
      "추가 주문은 음료 번호를, 지불은 0을 누르세요 : 3\n",
      "HOT 음료는 1을, ICE 음료는 2를 입력하세요 : 1\n",
      "추가 주문 음료 HOT mocha : 3000 원\n",
      " 합계 :  8000 원\n",
      "\n",
      "추가 주문은 음료 번호를, 지불은 0을 누르세요 : 4\n",
      "HOT 음료는 1을, ICE 음료는 2를 입력하세요 : 2\n",
      "추가 주문 음료 ICE yuza_tea : 2500 원\n",
      " 합계 :  10500 원\n",
      "\n",
      "추가 주문은 음료 번호를, 지불은 0을 누르세요 : 5\n",
      "HOT 음료는 1을, ICE 음료는 2를 입력하세요 : 1\n",
      "추가 주문 음료 HOT green_tea : 2500 원\n",
      " 합계 :  13000 원\n",
      "\n",
      "추가 주문은 음료 번호를, 지불은 0을 누르세요 : 6\n",
      "HOT 음료는 1을, ICE 음료는 2를 입력하세요 : 2\n",
      "추가 주문 음료 ICE choco_latte : 3000 원\n",
      " 합계 :  16000 원\n",
      "\n",
      "추가 주문은 음료 번호를, 지불은 0을 누르세요 : 0\n",
      "주문이 완료되었습니다.\n",
      "['HOT americano', 'ICE latte', 'HOT mocha', 'ICE yuza_tea', 'HOT green_tea', 'ICE choco_latte'] [2000, 3000, 3000, 2500, 2500, 3000]\n"
     ]
    }
   ],
   "source": [
    "# 5가지 이상의 음료를 주문하고 리스트 확인하기 \n",
    "a = Kiosk()  # 객체 생성\n",
    "a.menu_print()  # 메뉴 출력\n",
    "a.menu_select()  # 주문"
   ]
  },
  {
   "cell_type": "code",
   "execution_count": 1,
   "id": "ea540b04",
   "metadata": {},
   "outputs": [
    {
     "name": "stdout",
     "output_type": "stream",
     "text": [
      "주말 간 보완예정\n"
     ]
    }
   ],
   "source": [
    "print(\"주말 간 보완예정\")"
   ]
  },
  {
   "cell_type": "code",
   "execution_count": null,
   "id": "d2be95fd",
   "metadata": {},
   "outputs": [],
   "source": []
  }
 ],
 "metadata": {
  "kernelspec": {
   "display_name": "Python 3 (ipykernel)",
   "language": "python",
   "name": "python3"
  },
  "language_info": {
   "codemirror_mode": {
    "name": "ipython",
    "version": 3
   },
   "file_extension": ".py",
   "mimetype": "text/x-python",
   "name": "python",
   "nbconvert_exporter": "python",
   "pygments_lexer": "ipython3",
   "version": "3.9.7"
  }
 },
 "nbformat": 4,
 "nbformat_minor": 5
}
